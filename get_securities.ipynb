{
  "nbformat": 4,
  "nbformat_minor": 0,
  "metadata": {
    "colab": {
      "name": "get_sec_moex.ipynb",
      "provenance": [],
      "collapsed_sections": []
    },
    "kernelspec": {
      "name": "python3",
      "display_name": "Python 3"
    },
    "language_info": {
      "name": "python"
    }
  },
  "cells": [
    {
      "cell_type": "code",
      "metadata": {
        "id": "oUKe9nSaKfd-"
      },
      "source": [
        "import pandas as pd\n",
        "def securities_from_moex(kind=0, tiker=None):\n",
        "  \"\"\"Получение результатов торгов ценных бумаг на Московской бирже\n",
        "  kind - может принимать следующие значения: 0 - акции, 1 - фьючерсы, 2 - валюты, 3 - индексы, 4 - облигации\n",
        "  tiker - наименование тикера ценной бумаги, если не указан то будут выведены все бумаги за предыдущий день\n",
        "  \"\"\"\n",
        "  if kind == 0:\n",
        "    sUrl = 'http://iss.moex.com/iss/history/engines/stock/markets/shares/securities'\n",
        "  elif kind == 1:\n",
        "    sUrl = 'http://iss.moex.com/iss/history/engines/futures/markets/forts/securities'\n",
        "  elif kind == 2:\n",
        "    sUrl = 'http://iss.moex.com/iss/history/engines/currency/markets/selt/securities'\n",
        "  elif kind == 3:\n",
        "    sUrl = 'http://iss.moex.com/iss/history/engines/stock/markets/index/securities'\n",
        "  else:\n",
        "    sUrl = 'http://iss.moex.com/iss/history/engines/stock/markets/bonds/securities'\n",
        "  if tiker is None:\n",
        "    sUrl = sUrl + '.json'\n",
        "  else:\n",
        "    sUrl = sUrl + '/' + tiker + '.json'\n",
        "  bNext = True\n",
        "  lStart = 0\n",
        "  while bNext:\n",
        "    res = pd.read_json(sUrl + '?start=' + str(lStart))\n",
        "    jhist = res['history']\n",
        "    jdata = jhist['data']\n",
        "    if lStart == 0:\n",
        "      jcols = jhist['columns']\n",
        "      df = pd.DataFrame(jdata, columns=jcols)\n",
        "      if kind < 2:\n",
        "        df.dropna(inplace=True)\n",
        "      jcur = res['history.cursor']\n",
        "      jcur = jcur['data']\n",
        "      jcur = jcur[0]\n",
        "      lTotal = jcur[1]\n",
        "      lSize = jcur[2]\n",
        "    else:\n",
        "      res = pd.DataFrame(jdata, columns=jcols)\n",
        "      if kind < 2:\n",
        "        res.dropna(inplace=True)\n",
        "      df = pd.concat([df, res], ignore_index=True)\n",
        "    lStart = lStart + lSize\n",
        "    if lStart < lTotal:\n",
        "      bNext = True\n",
        "    else:\n",
        "      bNext = False\n",
        "  return df\n",
        "# Получение новых значений по фьючерсам MOEX\n",
        "df1 = securities_from_moex(kind=1)"
      ],
      "execution_count": 1,
      "outputs": []
    }
  ]
}