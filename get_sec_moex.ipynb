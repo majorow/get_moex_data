{
  "nbformat": 4,
  "nbformat_minor": 0,
  "metadata": {
    "colab": {
      "name": "get_sec_moex.ipynb",
      "provenance": [],
      "collapsed_sections": []
    },
    "kernelspec": {
      "name": "python3",
      "display_name": "Python 3"
    },
    "language_info": {
      "name": "python"
    }
  },
  "cells": [
    {
      "cell_type": "code",
      "metadata": {
        "id": "oUKe9nSaKfd-",
        "colab": {
          "base_uri": "https://localhost:8080/",
          "height": 316
        },
        "outputId": "8bce9b1c-06e9-4199-efc6-1a94d16b4dfd"
      },
      "source": [
        "import pandas as pd\n",
        "def securities_from_moex(kind=0, tiker=None):\n",
        "  \"\"\"Получение результатов торгов ценных бумаг на Московской бирже\n",
        "  kind - может принимать следующие значения: 0 - акции, 1 - фьючерсы, 2 - валюты, 3 - индексы, 4 - облигации\n",
        "  tiker - наименование тикера ценной бумаги, если не указан то будут выведены все бумаги за предыдущий день\n",
        "  \"\"\"\n",
        "  if kind == 0:\n",
        "    sUrl = 'http://iss.moex.com/iss/history/engines/stock/markets/shares/securities'\n",
        "  elif kind == 1:\n",
        "    sUrl = 'http://iss.moex.com/iss/history/engines/futures/markets/forts/securities'\n",
        "  elif kind == 2:\n",
        "    sUrl = 'http://iss.moex.com/iss/history/engines/currency/markets/selt/securities'\n",
        "  elif kind == 3:\n",
        "    sUrl = 'http://iss.moex.com/iss/history/engines/stock/markets/index/securities'\n",
        "  else:\n",
        "    sUrl = 'http://iss.moex.com/iss/history/engines/stock/markets/bonds/securities'\n",
        "  if tiker is None:\n",
        "    sUrl = sUrl + '.json'\n",
        "  else:\n",
        "    sUrl = sUrl + '/' + tiker + '.json'\n",
        "  bNext = True\n",
        "  lStart = 0\n",
        "  while bNext:\n",
        "    res = pd.read_json(sUrl + '?start=' + str(lStart))\n",
        "    jhist = res['history']\n",
        "    jdata = jhist['data']\n",
        "    if lStart == 0:\n",
        "      jcols = jhist['columns']\n",
        "      df = pd.DataFrame(jdata, columns=jcols)\n",
        "      if kind < 2:\n",
        "        df.dropna(inplace=True)\n",
        "      jcur = res['history.cursor']\n",
        "      jcur = jcur['data']\n",
        "      jcur = jcur[0]\n",
        "      lTotal = jcur[1]\n",
        "      lSize = jcur[2]\n",
        "    else:\n",
        "      res = pd.DataFrame(jdata, columns=jcols)\n",
        "      if kind < 2:\n",
        "        res.dropna(inplace=True)\n",
        "      df = pd.concat([df, res], ignore_index=True)\n",
        "    lStart = lStart + lSize\n",
        "    if lStart < lTotal:\n",
        "      bNext = True\n",
        "    else:\n",
        "      bNext = False\n",
        "  return df\n",
        "# Получение новых значений по фьючерсам MOEX\n",
        "df1 = securities_from_moex(kind=1)\n"
      ],
      "execution_count": null,
      "outputs": [
        {
          "output_type": "error",
          "ename": "AttributeError",
          "evalue": "ignored",
          "traceback": [
            "\u001b[0;31m---------------------------------------------------------------------------\u001b[0m",
            "\u001b[0;31mAttributeError\u001b[0m                            Traceback (most recent call last)",
            "\u001b[0;32m<ipython-input-1-d3b5978aec5f>\u001b[0m in \u001b[0;36m<module>\u001b[0;34m()\u001b[0m\n\u001b[1;32m     48\u001b[0m \u001b[0;31m# Получение новых значений по фьючерсам MOEX\u001b[0m\u001b[0;34m\u001b[0m\u001b[0;34m\u001b[0m\u001b[0;34m\u001b[0m\u001b[0m\n\u001b[1;32m     49\u001b[0m \u001b[0mdf1\u001b[0m \u001b[0;34m=\u001b[0m \u001b[0msecurities_from_moex\u001b[0m\u001b[0;34m(\u001b[0m\u001b[0mkind\u001b[0m\u001b[0;34m=\u001b[0m\u001b[0;36m2\u001b[0m\u001b[0;34m)\u001b[0m\u001b[0;34m\u001b[0m\u001b[0;34m\u001b[0m\u001b[0m\n\u001b[0;32m---> 50\u001b[0;31m \u001b[0mdf1\u001b[0m\u001b[0;34m[\u001b[0m\u001b[0mdf1\u001b[0m\u001b[0;34m.\u001b[0m\u001b[0mVOLUME\u001b[0m\u001b[0;34m.\u001b[0m\u001b[0mmax\u001b[0m\u001b[0;34m(\u001b[0m\u001b[0;34m)\u001b[0m\u001b[0;34m]\u001b[0m\u001b[0;34m\u001b[0m\u001b[0;34m\u001b[0m\u001b[0m\n\u001b[0m",
            "\u001b[0;32m/usr/local/lib/python3.7/dist-packages/pandas/core/generic.py\u001b[0m in \u001b[0;36m__getattr__\u001b[0;34m(self, name)\u001b[0m\n\u001b[1;32m   5139\u001b[0m             \u001b[0;32mif\u001b[0m \u001b[0mself\u001b[0m\u001b[0;34m.\u001b[0m\u001b[0m_info_axis\u001b[0m\u001b[0;34m.\u001b[0m\u001b[0m_can_hold_identifiers_and_holds_name\u001b[0m\u001b[0;34m(\u001b[0m\u001b[0mname\u001b[0m\u001b[0;34m)\u001b[0m\u001b[0;34m:\u001b[0m\u001b[0;34m\u001b[0m\u001b[0;34m\u001b[0m\u001b[0m\n\u001b[1;32m   5140\u001b[0m                 \u001b[0;32mreturn\u001b[0m \u001b[0mself\u001b[0m\u001b[0;34m[\u001b[0m\u001b[0mname\u001b[0m\u001b[0;34m]\u001b[0m\u001b[0;34m\u001b[0m\u001b[0;34m\u001b[0m\u001b[0m\n\u001b[0;32m-> 5141\u001b[0;31m             \u001b[0;32mreturn\u001b[0m \u001b[0mobject\u001b[0m\u001b[0;34m.\u001b[0m\u001b[0m__getattribute__\u001b[0m\u001b[0;34m(\u001b[0m\u001b[0mself\u001b[0m\u001b[0;34m,\u001b[0m \u001b[0mname\u001b[0m\u001b[0;34m)\u001b[0m\u001b[0;34m\u001b[0m\u001b[0;34m\u001b[0m\u001b[0m\n\u001b[0m\u001b[1;32m   5142\u001b[0m \u001b[0;34m\u001b[0m\u001b[0m\n\u001b[1;32m   5143\u001b[0m     \u001b[0;32mdef\u001b[0m \u001b[0m__setattr__\u001b[0m\u001b[0;34m(\u001b[0m\u001b[0mself\u001b[0m\u001b[0;34m,\u001b[0m \u001b[0mname\u001b[0m\u001b[0;34m:\u001b[0m \u001b[0mstr\u001b[0m\u001b[0;34m,\u001b[0m \u001b[0mvalue\u001b[0m\u001b[0;34m)\u001b[0m \u001b[0;34m->\u001b[0m \u001b[0;32mNone\u001b[0m\u001b[0;34m:\u001b[0m\u001b[0;34m\u001b[0m\u001b[0;34m\u001b[0m\u001b[0m\n",
            "\u001b[0;31mAttributeError\u001b[0m: 'DataFrame' object has no attribute 'VOLUME'"
          ]
        }
      ]
    }
  ]
}